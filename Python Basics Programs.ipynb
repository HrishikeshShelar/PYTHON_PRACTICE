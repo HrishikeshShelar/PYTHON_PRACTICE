{
 "cells": [
  {
   "cell_type": "code",
   "execution_count": 1,
   "id": "69b7e0bc",
   "metadata": {},
   "outputs": [
    {
     "name": "stdout",
     "output_type": "stream",
     "text": [
      "Enter Name: hrishikesh\n",
      "Enter Roll No: 36\n",
      "hrishikesh 36\n"
     ]
    }
   ],
   "source": [
    "a=input(\"Enter Name: \") \n",
    "b=input(\"Enter Roll No: \")\n",
    "print(a,end=\" \")\n",
    "print(b)"
   ]
  },
  {
   "cell_type": "code",
   "execution_count": 2,
   "id": "40b2fcef",
   "metadata": {},
   "outputs": [
    {
     "name": "stdout",
     "output_type": "stream",
     "text": [
      "Enter Name: Hrishikesh\n",
      "Enter Age: 19\n",
      "Enter Roll No: 36\n",
      "Enter Std: Second year\n",
      "Enter Your hobby: playing games\n",
      "Enter Your field: I.T\n",
      "Hrishikesh 19\n",
      "36 Second year\n",
      "playing games I.T\n"
     ]
    }
   ],
   "source": [
    "a=input(\"Enter Name: \") \n",
    "b=input(\"Enter Age: \") \n",
    "c=input(\"Enter Roll No: \")\n",
    "d=input(\"Enter Std: \") \n",
    "e=input(\"Enter Your hobby: \") \n",
    "f=input(\"Enter Your field: \")\n",
    "print(a,end=\" \")\n",
    "print(b)\n",
    "print(c,end=\" \")\n",
    "print(d)\n",
    "print(e,end=\" \")\n",
    "print(f)"
   ]
  },
  {
   "cell_type": "code",
   "execution_count": 3,
   "id": "09a4ca59",
   "metadata": {},
   "outputs": [
    {
     "name": "stdout",
     "output_type": "stream",
     "text": [
      "Enter 1st Number: 8\n",
      "Enter 2nd Number: 8\n",
      "True\n"
     ]
    }
   ],
   "source": [
    "a=int(input(\"Enter 1st Number: \"))\n",
    "c=int(input(\"Enter 2nd Number: \"))\n",
    "print(a == c)"
   ]
  },
  {
   "cell_type": "code",
   "execution_count": 4,
   "id": "15c44094",
   "metadata": {},
   "outputs": [
    {
     "name": "stdout",
     "output_type": "stream",
     "text": [
      "Enter 1st Number: 6\n",
      "Enter 2nd Number: 7\n",
      "Enter 3rd Number: 8\n",
      "False\n"
     ]
    }
   ],
   "source": [
    "a=int(input(\"Enter 1st Number: \"))\n",
    "b=int(input(\"Enter 2nd Number: \"))\n",
    "c=int(input(\"Enter 3rd Number: \"))\n",
    "print(a == b == c)"
   ]
  },
  {
   "cell_type": "code",
   "execution_count": 5,
   "id": "6e7da1bd",
   "metadata": {},
   "outputs": [
    {
     "name": "stdout",
     "output_type": "stream",
     "text": [
      "Enter 1st Number: 2\n",
      "Enter 2nd number: 1\n",
      "False\n",
      "True\n"
     ]
    }
   ],
   "source": [
    "a=int(input(\"Enter 1st Number: \"))\n",
    "b=int(input(\"Enter 2nd number: \"))\n",
    "f=(a+b>=5)\n",
    "g=(a+b<=5)\n",
    "print(f)\n",
    "print(g)"
   ]
  },
  {
   "cell_type": "code",
   "execution_count": 6,
   "id": "3c3cf172",
   "metadata": {},
   "outputs": [
    {
     "name": "stdout",
     "output_type": "stream",
     "text": [
      "False\n",
      "True\n",
      "True\n",
      "False\n",
      "False\n"
     ]
    }
   ],
   "source": [
    "print(not(True and True))\n",
    "print(True or False)\n",
    "print(not(False and True))\n",
    "print(False and False)\n",
    "print(not(True or False))"
   ]
  },
  {
   "cell_type": "code",
   "execution_count": 7,
   "id": "0f54f08e",
   "metadata": {},
   "outputs": [
    {
     "name": "stdout",
     "output_type": "stream",
     "text": [
      "Enter your marks: 80\n",
      "Enter passing marks: 35\n",
      "True\n",
      "False\n"
     ]
    }
   ],
   "source": [
    "a=int(input(\"Enter your marks: \"))\n",
    "b=int(input(\"Enter passing marks: \"))\n",
    "c=a>=b\n",
    "d=a<=b\n",
    "print(c)\n",
    "print(d)"
   ]
  },
  {
   "cell_type": "code",
   "execution_count": 8,
   "id": "271ca688",
   "metadata": {},
   "outputs": [
    {
     "name": "stdout",
     "output_type": "stream",
     "text": [
      "Enter 1st word: Sun\n",
      "Enter 2st word: flower\n",
      "Sunflower\n"
     ]
    }
   ],
   "source": [
    "a=(input(\"Enter 1st word: \"))\n",
    "b=(input(\"Enter 2st word: \"))\n",
    "print(a+\"\"+b)"
   ]
  },
  {
   "cell_type": "code",
   "execution_count": 10,
   "id": "fa6690f2",
   "metadata": {},
   "outputs": [
    {
     "name": "stdout",
     "output_type": "stream",
     "text": [
      "Enter 1st word: Cricket\n",
      "Enter 2st word: World\n",
      "Enter 3rd word: cup\n",
      "Cricket Worldcup\n"
     ]
    }
   ],
   "source": [
    "a=input(\"Enter 1st word: \")\n",
    "b=input(\"Enter 2st word: \")\n",
    "c=input(\"Enter 3rd word: \")\n",
    "print(a+\" \"+b+\"\"+c)"
   ]
  },
  {
   "cell_type": "code",
   "execution_count": 14,
   "id": "f5b46ef6",
   "metadata": {},
   "outputs": [
    {
     "name": "stdout",
     "output_type": "stream",
     "text": [
      "Enter Your Name: Hrishikesh\n",
      "Enter Your Age: 20\n",
      "Hrishikesh  will turn in 100 in the year 2102\n"
     ]
    }
   ],
   "source": [
    "Name=input(\"Enter Your Name: \")\n",
    "Age=int(input(\"Enter Your Age: \"))\n",
    "userage=(100-Age)+2022\n",
    "print(Name+\" \"\" will turn in 100 in the year\",userage)"
   ]
  },
  {
   "cell_type": "code",
   "execution_count": null,
   "id": "eac25100",
   "metadata": {},
   "outputs": [],
   "source": []
  }
 ],
 "metadata": {
  "kernelspec": {
   "display_name": "Python 3 (ipykernel)",
   "language": "python",
   "name": "python3"
  },
  "language_info": {
   "codemirror_mode": {
    "name": "ipython",
    "version": 3
   },
   "file_extension": ".py",
   "mimetype": "text/x-python",
   "name": "python",
   "nbconvert_exporter": "python",
   "pygments_lexer": "ipython3",
   "version": "3.9.7"
  }
 },
 "nbformat": 4,
 "nbformat_minor": 5
}
