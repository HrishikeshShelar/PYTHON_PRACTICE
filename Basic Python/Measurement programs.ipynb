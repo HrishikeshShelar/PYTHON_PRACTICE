{
 "cells": [
  {
   "cell_type": "code",
   "execution_count": 3,
   "id": "a02ca490",
   "metadata": {},
   "outputs": [
    {
     "name": "stdout",
     "output_type": "stream",
     "text": [
      "Enter the side: 12\n",
      "Area of the square: 144\n"
     ]
    }
   ],
   "source": [
    "side = int(input(\"Enter the side: \"))\n",
    "Area = side*side\n",
    "print(\"Area of the square:\",Area)"
   ]
  },
  {
   "cell_type": "code",
   "execution_count": 7,
   "id": "d550ddbe",
   "metadata": {},
   "outputs": [
    {
     "name": "stdout",
     "output_type": "stream",
     "text": [
      "Enter length: 16.5\n",
      "Enter breadth: 10.5\n",
      "Area of the rectangle: 173.25\n"
     ]
    }
   ],
   "source": [
    "l=float(input(\"Enter length: \"))\n",
    "b=float(input(\"Enter breadth: \"))\n",
    "Area=(l*b)\n",
    "print(\"Area of the rectangle:\",Area)"
   ]
  },
  {
   "cell_type": "code",
   "execution_count": 9,
   "id": "20279075",
   "metadata": {},
   "outputs": [
    {
     "name": "stdout",
     "output_type": "stream",
     "text": [
      "Enter Radius: 10\n",
      "Area of the circle: 314.0\n"
     ]
    }
   ],
   "source": [
    "pi=3.14\n",
    "r=int(input(\"Enter Radius: \"))\n",
    "Area=(pi*r**2)\n",
    "print(\"Area of the circle:\",Area)"
   ]
  },
  {
   "cell_type": "code",
   "execution_count": 10,
   "id": "ea1f1e2a",
   "metadata": {},
   "outputs": [
    {
     "name": "stdout",
     "output_type": "stream",
     "text": [
      "Enter Radius: 15\n",
      "Circumference of the circle:  94.2\n"
     ]
    }
   ],
   "source": [
    "pi=3.14\n",
    "r=int(input(\"Enter Radius: \"))\n",
    "Circumference=(2*pi*r)\n",
    "print(\"Circumference of the circle: \",Circumference)\n"
   ]
  },
  {
   "cell_type": "code",
   "execution_count": 12,
   "id": "4073334d",
   "metadata": {},
   "outputs": [
    {
     "name": "stdout",
     "output_type": "stream",
     "text": [
      "Enter Side8.4\n",
      "perimeter of square:  33.6\n"
     ]
    }
   ],
   "source": [
    "a=float(input(\"Enter Side\"))\n",
    "P=4*a\n",
    "print(\"perimeter of square: \",P)\n"
   ]
  },
  {
   "cell_type": "code",
   "execution_count": 14,
   "id": "27659d4e",
   "metadata": {},
   "outputs": [
    {
     "name": "stdout",
     "output_type": "stream",
     "text": [
      "Enter length: 20\n",
      "Enter breadth: 15\n",
      "Enter height: 8\n",
      "Volume of cuboid: 2400\n"
     ]
    }
   ],
   "source": [
    "l=int(input(\"Enter length: \"))\n",
    "b=int(input(\"Enter breadth: \"))\n",
    "h=int(input(\"Enter height: \"))\n",
    "V=(l*b*h)\n",
    "print(\"Volume of cuboid:\",V)"
   ]
  },
  {
   "cell_type": "code",
   "execution_count": null,
   "id": "f7360830",
   "metadata": {},
   "outputs": [],
   "source": []
  },
  {
   "cell_type": "code",
   "execution_count": null,
   "id": "91f2176b",
   "metadata": {},
   "outputs": [],
   "source": []
  }
 ],
 "metadata": {
  "kernelspec": {
   "display_name": "Python 3 (ipykernel)",
   "language": "python",
   "name": "python3"
  },
  "language_info": {
   "codemirror_mode": {
    "name": "ipython",
    "version": 3
   },
   "file_extension": ".py",
   "mimetype": "text/x-python",
   "name": "python",
   "nbconvert_exporter": "python",
   "pygments_lexer": "ipython3",
   "version": "3.9.7"
  }
 },
 "nbformat": 4,
 "nbformat_minor": 5
}
