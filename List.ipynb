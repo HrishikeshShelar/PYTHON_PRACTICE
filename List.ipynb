{
 "cells": [
  {
   "cell_type": "markdown",
   "id": "f826f478",
   "metadata": {},
   "source": [
    "# Python list"
   ]
  },
  {
   "cell_type": "markdown",
   "id": "fbba25e0",
   "metadata": {},
   "source": [
    "Properties of list:\n",
    "1.Mutable\n",
    "2.Order\n",
    "3.Hetergenous\n",
    "4.Duplicate"
   ]
  },
  {
   "cell_type": "code",
   "execution_count": 5,
   "id": "af943a4a",
   "metadata": {},
   "outputs": [
    {
     "name": "stdout",
     "output_type": "stream",
     "text": [
      "['Hrishikesh', 19, 'I.T', 'S.Y', 36, 'Thane']\n",
      "['Hrishikesh', 19, 'I.T', 'S.Y', 36, 'Thane']\n"
     ]
    }
   ],
   "source": [
    "# Create list of your name,age,field,std,roll no,location using [] & list constructor\n",
    "list1=[\"Hrishikesh\",19,\"I.T\",\"S.Y\",36,\"Thane\"]\n",
    "list2=[\"Hrishikesh\",19,\"I.T\",\"S.Y\",36,\"Thane\"]\n",
    "print(list1)\n",
    "print(list2)"
   ]
  },
  {
   "cell_type": "code",
   "execution_count": 8,
   "id": "ba97dc30",
   "metadata": {},
   "outputs": [
    {
     "name": "stdout",
     "output_type": "stream",
     "text": [
      "['I.T']\n"
     ]
    }
   ],
   "source": [
    "# Print only your field using index method\n",
    "print(list1[2:3])"
   ]
  },
  {
   "cell_type": "code",
   "execution_count": 9,
   "id": "88606014",
   "metadata": {},
   "outputs": [
    {
     "name": "stdout",
     "output_type": "stream",
     "text": [
      "5\n"
     ]
    }
   ],
   "source": [
    "# Print the position of location element\n",
    "print(list2.index(\"Thane\")) "
   ]
  },
  {
   "cell_type": "code",
   "execution_count": 10,
   "id": "023b6c44",
   "metadata": {},
   "outputs": [
    {
     "name": "stdout",
     "output_type": "stream",
     "text": [
      "[19, 'I.T', 'S.Y', 36]\n"
     ]
    }
   ],
   "source": [
    "# Print the element between age and roll no\n",
    "print(list1[1:5])"
   ]
  },
  {
   "cell_type": "code",
   "execution_count": 12,
   "id": "5f997452",
   "metadata": {},
   "outputs": [
    {
     "name": "stdout",
     "output_type": "stream",
     "text": [
      "['Shelar', 19, 'I.T', 'S.Y', 36, 'Thane']\n"
     ]
    }
   ],
   "source": [
    "# Replace the element of name with surname\n",
    "list1[0]=\"Shelar\"\n",
    "print(list1)"
   ]
  },
  {
   "cell_type": "code",
   "execution_count": 13,
   "id": "60637d0d",
   "metadata": {},
   "outputs": [
    {
     "name": "stdout",
     "output_type": "stream",
     "text": [
      "['Suraj', 20, 'Commerce', 'S.Y', 36, 'Thane']\n"
     ]
    }
   ],
   "source": [
    "# Replace the element of name,age and field\n",
    "list1[0:3]=[\"Suraj\",20,\"Commerce\"]\n",
    "print(list1)"
   ]
  },
  {
   "cell_type": "code",
   "execution_count": 16,
   "id": "626c3ed8",
   "metadata": {},
   "outputs": [
    {
     "name": "stdout",
     "output_type": "stream",
     "text": [
      "['Shelar', 'I.T', 'S.Y', 36, 'Thane']\n"
     ]
    }
   ],
   "source": [
    "# Replace the element of name and age with only surname\n",
    "list1=[\"Hrishikesh\",19,\"I.T\",\"S.Y\",36,\"Thane\"]\n",
    "list1[0:2]=[\"Shelar\"]\n",
    "print(list1)"
   ]
  },
  {
   "cell_type": "code",
   "execution_count": 9,
   "id": "8d2ee223",
   "metadata": {},
   "outputs": [
    {
     "name": "stdout",
     "output_type": "stream",
     "text": [
      "['Hrishi', 'Shelar', 19, 'I.T', 'S.Y', 36, 'Thane']\n"
     ]
    }
   ],
   "source": [
    "# Replace the element of name with your nick name and surname\n",
    "list2=[\"Hrishikesh\",19,\"I.T\",\"S.Y\",36,\"Thane\"]\n",
    "list2[0:1]=[\"Hrishi\",\"Shelar\"]\n",
    "print(list2)"
   ]
  },
  {
   "cell_type": "code",
   "execution_count": 11,
   "id": "a4a3bb73",
   "metadata": {},
   "outputs": [
    {
     "name": "stdout",
     "output_type": "stream",
     "text": [
      "['Hrishikesh', 'Shelar', 19, 'I.T', 'S.Y', 36, 'Thane']\n"
     ]
    }
   ],
   "source": [
    "# Add your surnanme in the list after your\n",
    "list3=[\"Hrishikesh\",19,\"I.T\",\"S.Y\",36,\"Thane\"]\n",
    "list3.insert(1,\"Shelar\")\n",
    "print(list3)"
   ]
  },
  {
   "cell_type": "code",
   "execution_count": 19,
   "id": "5bd677e7",
   "metadata": {},
   "outputs": [
    {
     "name": "stdout",
     "output_type": "stream",
     "text": [
      "['Hrishikesh', 19, 'I.T', 'S.Y', 36, 'Thane', 'playing games']\n"
     ]
    }
   ],
   "source": [
    "# Add your hobby at the end of the list\n",
    "list1=[\"Hrishikesh\",19,\"I.T\",\"S.Y\",36,\"Thane\"]\n",
    "list1.append(\"playing games\")\n",
    "print(list1)"
   ]
  },
  {
   "cell_type": "code",
   "execution_count": 20,
   "id": "0a8f8c6d",
   "metadata": {},
   "outputs": [
    {
     "name": "stdout",
     "output_type": "stream",
     "text": [
      "['Hrishikesh', 19, 'I.T', 'S.Y', 36, 'Thane', 'playing games', 'reading boooks', 'singing']\n"
     ]
    }
   ],
   "source": [
    "# Add your multiple of hobbies at the end of the list\n",
    "list1=[\"Hrishikesh\",19,\"I.T\",\"S.Y\",36,\"Thane\"]\n",
    "list2=[\"playing games\",\"reading boooks\",\"singing\"]\n",
    "list1.extend(list2)\n",
    "print(list1)"
   ]
  },
  {
   "cell_type": "code",
   "execution_count": 22,
   "id": "0488eacf",
   "metadata": {},
   "outputs": [
    {
     "name": "stdout",
     "output_type": "stream",
     "text": [
      "['Hrishikesh', 'Shelar', 19, 'I.T', 'S.Y', 36]\n"
     ]
    }
   ],
   "source": [
    "# Remve your location from list\n",
    "list1=[\"Hrishikesh\",\"Shelar\",19,\"I.T\",\"S.Y\",36,\"Thane\"]\n",
    "list1.pop(6)\n",
    "print(list1)"
   ]
  },
  {
   "cell_type": "code",
   "execution_count": 24,
   "id": "87c7a16e",
   "metadata": {},
   "outputs": [
    {
     "name": "stdout",
     "output_type": "stream",
     "text": [
      "['Hrishikesh', 'Shelar', 'I.T', 'S.Y', 36, 'Thane']\n"
     ]
    }
   ],
   "source": [
    "# Remove your age from list using pop()\n",
    "list1=[\"Hrishikesh\",\"Shelar\",19,\"I.T\",\"S.Y\",36,\"Thane\"]\n",
    "list1.pop(2)\n",
    "print(list1)"
   ]
  },
  {
   "cell_type": "code",
   "execution_count": 25,
   "id": "db8e6388",
   "metadata": {},
   "outputs": [
    {
     "name": "stdout",
     "output_type": "stream",
     "text": [
      "['Hrishikesh', 'Shelar', 'I.T', 'S.Y', 36, 'Thane']\n"
     ]
    }
   ],
   "source": [
    "# Remove your age from list using remove()\n",
    "list1=[\"Hrishikesh\",\"Shelar\",19,\"I.T\",\"S.Y\",36,\"Thane\"]\n",
    "list1.remove(19)\n",
    "print(list1)"
   ]
  },
  {
   "cell_type": "code",
   "execution_count": 26,
   "id": "68926a72",
   "metadata": {},
   "outputs": [
    {
     "name": "stdout",
     "output_type": "stream",
     "text": [
      "[]\n"
     ]
    }
   ],
   "source": [
    "# Remove all element from list (empty list)\n",
    "list1=[\"Hrishikesh\",\"Shelar\",19,\"I.T\",\"S.Y\",36,\"Thane\"]\n",
    "list1.clear()\n",
    "print(list1)"
   ]
  },
  {
   "cell_type": "code",
   "execution_count": 27,
   "id": "52f00ea7",
   "metadata": {},
   "outputs": [],
   "source": [
    "# delete the list\n",
    "list1=[\"Hrishikesh\",\"Shelar\",19,\"I.T\",\"S.Y\",36,\"Thane\"]\n",
    "del list1"
   ]
  },
  {
   "cell_type": "code",
   "execution_count": 28,
   "id": "d63ea336",
   "metadata": {},
   "outputs": [
    {
     "data": {
      "text/plain": [
       "8"
      ]
     },
     "execution_count": 28,
     "metadata": {},
     "output_type": "execute_result"
    }
   ],
   "source": [
    "# Create a list of prime numbers till 20 and find the length of it\n",
    "prime_no=[2,3,5,7,11,13,17,19]\n",
    "len(prime_no)"
   ]
  },
  {
   "cell_type": "code",
   "execution_count": 29,
   "id": "b369f091",
   "metadata": {},
   "outputs": [
    {
     "name": "stdout",
     "output_type": "stream",
     "text": [
      "19\n",
      "2\n"
     ]
    }
   ],
   "source": [
    "# Print the largest and smallest number from list\n",
    "prime_no=[2,3,5,7,11,13,17,19]\n",
    "print(max(prime_no))\n",
    "print(min(prime_no))"
   ]
  },
  {
   "cell_type": "code",
   "execution_count": 30,
   "id": "0e47b2fc",
   "metadata": {},
   "outputs": [
    {
     "data": {
      "text/plain": [
       "77"
      ]
     },
     "execution_count": 30,
     "metadata": {},
     "output_type": "execute_result"
    }
   ],
   "source": [
    "# print sum of prime number till 20\n",
    "prime_no=[2,3,5,7,11,13,17,19]\n",
    "sum(prime_no)"
   ]
  },
  {
   "cell_type": "code",
   "execution_count": 31,
   "id": "47ca226f",
   "metadata": {},
   "outputs": [
    {
     "data": {
      "text/plain": [
       "False"
      ]
     },
     "execution_count": 31,
     "metadata": {},
     "output_type": "execute_result"
    }
   ],
   "source": [
    "# Create a list using numbers and boolean and apply functions of all\n",
    "a=[1,0,True]\n",
    "all(a)"
   ]
  },
  {
   "cell_type": "code",
   "execution_count": 32,
   "id": "06f13c32",
   "metadata": {},
   "outputs": [
    {
     "data": {
      "text/plain": [
       "True"
      ]
     },
     "execution_count": 32,
     "metadata": {},
     "output_type": "execute_result"
    }
   ],
   "source": [
    "# Create a list using numbers and boolean and apply functions of any\n",
    "b=[0,1,False]\n",
    "any(b)"
   ]
  },
  {
   "cell_type": "code",
   "execution_count": 37,
   "id": "b7b1a4e8",
   "metadata": {},
   "outputs": [
    {
     "name": "stdout",
     "output_type": "stream",
     "text": [
      "[2, 5, 7, 12, 18]\n"
     ]
    }
   ],
   "source": [
    "# Ceate list of 5,2,18,7,12 print in ascending order\n",
    "list3=[5,2,18,7,12]\n",
    "list3.sort()\n",
    "print(list3)"
   ]
  },
  {
   "cell_type": "code",
   "execution_count": 34,
   "id": "a385c8a3",
   "metadata": {},
   "outputs": [
    {
     "name": "stdout",
     "output_type": "stream",
     "text": [
      "[12, 7, 18, 2, 5]\n"
     ]
    }
   ],
   "source": [
    "# Ceate list of 5,2,18,7,12 print in reverse\n",
    "list4=[5,2,18,7,12]\n",
    "list4.reverse()\n",
    "print(list4)"
   ]
  },
  {
   "cell_type": "code",
   "execution_count": 38,
   "id": "32cdb65b",
   "metadata": {},
   "outputs": [
    {
     "name": "stdout",
     "output_type": "stream",
     "text": [
      "[2, 5, 7, 12, 18, 12, 7, 18, 2, 5]\n"
     ]
    }
   ],
   "source": [
    "# Merge two list\n",
    "list3.extend(list4)\n",
    "print(list3)"
   ]
  },
  {
   "cell_type": "code",
   "execution_count": 39,
   "id": "b03c2393",
   "metadata": {},
   "outputs": [
    {
     "name": "stdout",
     "output_type": "stream",
     "text": [
      "[2, 5, 7, 12, 18, 12, 7, 18, 2, 5, 12, 7, 18, 2, 5]\n"
     ]
    }
   ],
   "source": [
    "list5=list3+list4\n",
    "print(list5)"
   ]
  },
  {
   "cell_type": "code",
   "execution_count": 47,
   "id": "b8bc96b6",
   "metadata": {},
   "outputs": [
    {
     "name": "stdout",
     "output_type": "stream",
     "text": [
      "[2, 5, 7, 12, 18, 12, 7, 18, 2, 5]\n"
     ]
    }
   ],
   "source": [
    "# Make a deep copy of list \n",
    "list6=[2,3,4,5]\n",
    "list6=list3\n",
    "print(list6)"
   ]
  },
  {
   "cell_type": "code",
   "execution_count": 49,
   "id": "d723ea30",
   "metadata": {},
   "outputs": [
    {
     "name": "stdout",
     "output_type": "stream",
     "text": [
      "[2, 5, 7, 12, 18, 12, 7, 18, 2, 5, 'Hrishi', 'Hrishi']\n",
      "[2, 5, 7, 12, 18, 12, 7, 18, 2, 5, 'Hrishi', 'Hrishi']\n"
     ]
    }
   ],
   "source": [
    "# check whether it is copying deeply or not \n",
    "list3.append(\"Hrishi\")\n",
    "print(list6)\n",
    "print(list3)"
   ]
  },
  {
   "cell_type": "code",
   "execution_count": 52,
   "id": "f1d4c67a",
   "metadata": {},
   "outputs": [
    {
     "name": "stdout",
     "output_type": "stream",
     "text": [
      "[10, 20, 30]\n"
     ]
    }
   ],
   "source": [
    "# Make a copy of list using copy()\n",
    "listA=[10,20,30]\n",
    "listB=listA.copy()\n",
    "print(listB)"
   ]
  },
  {
   "cell_type": "code",
   "execution_count": 53,
   "id": "64e7ca9f",
   "metadata": {},
   "outputs": [
    {
     "name": "stdout",
     "output_type": "stream",
     "text": [
      "[10, 20, 30, 'Shelar']\n",
      "[10, 20, 30]\n"
     ]
    }
   ],
   "source": [
    "# Make changes in one list will not affect to the another list\n",
    "listA.append(\"Shelar\")\n",
    "print(listA)\n",
    "print(listB)"
   ]
  },
  {
   "cell_type": "code",
   "execution_count": 54,
   "id": "228509e3",
   "metadata": {},
   "outputs": [
    {
     "name": "stdout",
     "output_type": "stream",
     "text": [
      "[15, 25, 35, 45, 55]\n"
     ]
    }
   ],
   "source": [
    "# Take any element to explain stack\n",
    "# Stack follows LIFO (Last in First Out) order\n",
    "stack=[15,25,35,45]\n",
    "stack.append(55)\n",
    "print(stack)"
   ]
  },
  {
   "cell_type": "code",
   "execution_count": 56,
   "id": "f1ad6199",
   "metadata": {},
   "outputs": [
    {
     "name": "stdout",
     "output_type": "stream",
     "text": [
      "[15, 25, 35, 45]\n"
     ]
    }
   ],
   "source": [
    "stack.pop()\n",
    "print(stack)"
   ]
  },
  {
   "cell_type": "code",
   "execution_count": 60,
   "id": "32c7f84d",
   "metadata": {},
   "outputs": [
    {
     "name": "stdout",
     "output_type": "stream",
     "text": [
      "[100, 200, 300, 400, 500]\n"
     ]
    }
   ],
   "source": [
    "# Take any element to explain queue\n",
    "# Queue follows FIFO (First in First Out) order\n",
    "queue=[100,200,300,400]\n",
    "queue.append(500)\n",
    "print(queue)"
   ]
  },
  {
   "cell_type": "code",
   "execution_count": 61,
   "id": "b1cbea08",
   "metadata": {},
   "outputs": [
    {
     "name": "stdout",
     "output_type": "stream",
     "text": [
      "[200, 300, 400, 500]\n"
     ]
    }
   ],
   "source": [
    "queue.pop(0)\n",
    "print(queue)"
   ]
  },
  {
   "cell_type": "code",
   "execution_count": 62,
   "id": "1204cdfa",
   "metadata": {},
   "outputs": [
    {
     "name": "stdout",
     "output_type": "stream",
     "text": [
      "[(1, 'Hrishi', 19, 36), (2, 'Suraj', 18, 12), (3, 'Pratham', 19, 67)]\n"
     ]
    }
   ],
   "source": [
    "# Zip four list \n",
    "natural_no=[1,2,3]\n",
    "names=[\"Hrishi\",\"Suraj\",\"Pratham\"]\n",
    "age=[19,18,19]\n",
    "rollno=[36,12,67]\n",
    "a=zip(natural_no,names,age,rollno)\n",
    "a=list(a)\n",
    "print(a)"
   ]
  },
  {
   "cell_type": "code",
   "execution_count": 65,
   "id": "25026218",
   "metadata": {},
   "outputs": [
    {
     "name": "stdout",
     "output_type": "stream",
     "text": [
      "(1, 2, 3)\n",
      "('Hrishi', 'Suraj', 'Pratham')\n",
      "(19, 18, 19)\n",
      "(36, 12, 67)\n"
     ]
    }
   ],
   "source": [
    "# Unzip above list\n",
    "natural_noz,namesz,agez,rollnoz=zip(*a)\n",
    "print(natural_noz)\n",
    "print(namesz)\n",
    "print(agez)\n",
    "print(rollnoz)"
   ]
  },
  {
   "cell_type": "code",
   "execution_count": null,
   "id": "1eb86cf1",
   "metadata": {},
   "outputs": [],
   "source": []
  }
 ],
 "metadata": {
  "kernelspec": {
   "display_name": "Python 3 (ipykernel)",
   "language": "python",
   "name": "python3"
  },
  "language_info": {
   "codemirror_mode": {
    "name": "ipython",
    "version": 3
   },
   "file_extension": ".py",
   "mimetype": "text/x-python",
   "name": "python",
   "nbconvert_exporter": "python",
   "pygments_lexer": "ipython3",
   "version": "3.9.7"
  }
 },
 "nbformat": 4,
 "nbformat_minor": 5
}
