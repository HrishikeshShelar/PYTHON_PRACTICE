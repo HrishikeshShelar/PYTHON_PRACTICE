{
 "cells": [
  {
   "cell_type": "code",
   "execution_count": 1,
   "metadata": {
    "colab": {
     "base_uri": "https://localhost:8080/"
    },
    "id": "dGeh4LA0EuAu",
    "outputId": "5bb616a3-1910-4693-c137-8cb361d4b340"
   },
   "outputs": [
    {
     "name": "stdout",
     "output_type": "stream",
     "text": [
      "enter number: 17.25\n",
      "enter number: 5\n",
      "Enter operator: *\n",
      "multiplication of two numbers: 86.25\n"
     ]
    }
   ],
   "source": [
    "# Make simple calculator \n",
    "\n",
    "a=float(input(\"enter number: \"))\n",
    "b=float(input(\"enter number: \"))\n",
    "operator=(input(\"Enter operator: \"))\n",
    "if operator== \"+\":\n",
    "  print(\"Addition of two numbers:\",a+b)\n",
    "elif operator==\"-\":\n",
    "  print(\"Subtraction off two numbers:\",a-b)\n",
    "elif operator==\"*\":\n",
    "  print(\"multiplication of two numbers:\",a*b)\n",
    "elif operator==\"/\":\n",
    "  print(\"division of two numbers:\",a/b)\n",
    "else:\n",
    "  print(\"invalid\")"
   ]
  },
  {
   "cell_type": "code",
   "execution_count": null,
   "metadata": {
    "id": "iqHKvTFjGUpO"
   },
   "outputs": [],
   "source": []
  }
 ],
 "metadata": {
  "colab": {
   "name": "simple calculator",
   "provenance": []
  },
  "kernelspec": {
   "display_name": "Python 3 (ipykernel)",
   "language": "python",
   "name": "python3"
  },
  "language_info": {
   "codemirror_mode": {
    "name": "ipython",
    "version": 3
   },
   "file_extension": ".py",
   "mimetype": "text/x-python",
   "name": "python",
   "nbconvert_exporter": "python",
   "pygments_lexer": "ipython3",
   "version": "3.9.7"
  }
 },
 "nbformat": 4,
 "nbformat_minor": 1
}
