{
 "cells": [
  {
   "cell_type": "code",
   "execution_count": 6,
   "id": "be75c482",
   "metadata": {},
   "outputs": [
    {
     "name": "stdout",
     "output_type": "stream",
     "text": [
      "[7, 12]\n",
      "[8, 11]\n"
     ]
    }
   ],
   "source": [
    "# programs to add 2x2 matrix\n",
    "\n",
    "x=[[2,4],\n",
    "   [1,5]]\n",
    "\n",
    "y=[[5,8],\n",
    "   [7,6]]\n",
    "\n",
    "result=[[0,0],\n",
    "        [0,0]]\n",
    "\n",
    "for i in range(len(x)):\n",
    "    for j in range(len(x)):\n",
    "        result[i][j]=x[i][j]+y[i][j]\n",
    "        \n",
    "for r in result:\n",
    "   print(r)\n"
   ]
  },
  {
   "cell_type": "code",
   "execution_count": 29,
   "id": "f305ca65",
   "metadata": {},
   "outputs": [
    {
     "name": "stdout",
     "output_type": "stream",
     "text": [
      "[2, -1, 0, 2]\n",
      "[2, -2, 0, 5]\n",
      "[0, -8, 6, 3]\n",
      "[5, 0, -3, 2]\n"
     ]
    }
   ],
   "source": [
    "# program to substract 4x4 matrix\n",
    "\n",
    "m=[[2,4,1,5],\n",
    "   [5,0,2,9],\n",
    "   [3,0,7,8],\n",
    "   [7,1,3,5]]\n",
    "\n",
    "n=[[0,5,1,3],\n",
    "   [3,2,2,4],\n",
    "   [3,8,1,5],\n",
    "   [2,1,6,3]]\n",
    "\n",
    "result=[[0,0,0,0],\n",
    "        [0,0,0,0],\n",
    "        [0,0,0,0],\n",
    "        [0,0,0,0]]\n",
    "\n",
    "for i in range(len(m)):\n",
    "    for j in range(len(m)):\n",
    "        result[i][j]=m[i][j]-n[i][j]\n",
    "        \n",
    "for r in result:\n",
    "   print(r)\n"
   ]
  },
  {
   "cell_type": "code",
   "execution_count": 35,
   "id": "cc82738f",
   "metadata": {},
   "outputs": [
    {
     "name": "stdout",
     "output_type": "stream",
     "text": [
      "[25, 29]\n",
      "[12, 29]\n"
     ]
    }
   ],
   "source": [
    "# program multiply matrix of 2x3 and 3x2\n",
    "\n",
    "x=[[4,2,3],\n",
    "   [2,3,1]]\n",
    "\n",
    "y=[[2,1],\n",
    "   [1,8],\n",
    "   [5,3]]\n",
    "   \n",
    "result=[[0,0],\n",
    "        [0,0]]\n",
    "\n",
    "for i in range(len(x)):\n",
    "    for j in range(len(y[0])):\n",
    "        for k in range(len(y)):\n",
    "            result[i][j]+=x[i][k]*y[k][j]\n",
    "            \n",
    "for r in result:\n",
    "   print(r)"
   ]
  },
  {
   "cell_type": "code",
   "execution_count": 44,
   "id": "399700b6",
   "metadata": {},
   "outputs": [
    {
     "name": "stdout",
     "output_type": "stream",
     "text": [
      "[1, 2, 4]\n",
      "[5, 0, 1]\n",
      "[7, 3, 5]\n"
     ]
    }
   ],
   "source": [
    "# program transpose a matrix\n",
    "\n",
    "x=[[1,5,7],\n",
    "   [2,0,3],\n",
    "   [4,1,5]]\n",
    "   \n",
    "result=[[0,0,0],\n",
    "        [0,0,0],\n",
    "        [0,0,0]]\n",
    "\n",
    "for i in range(len(x)):\n",
    "    for j in range(len(x)):\n",
    "        result[i][j]=x[j][i]\n",
    "\n",
    "for r in result:\n",
    "    print(r)"
   ]
  },
  {
   "cell_type": "code",
   "execution_count": null,
   "id": "d0de2bea",
   "metadata": {},
   "outputs": [],
   "source": []
  }
 ],
 "metadata": {
  "kernelspec": {
   "display_name": "Python 3 (ipykernel)",
   "language": "python",
   "name": "python3"
  },
  "language_info": {
   "codemirror_mode": {
    "name": "ipython",
    "version": 3
   },
   "file_extension": ".py",
   "mimetype": "text/x-python",
   "name": "python",
   "nbconvert_exporter": "python",
   "pygments_lexer": "ipython3",
   "version": "3.9.7"
  }
 },
 "nbformat": 4,
 "nbformat_minor": 5
}
