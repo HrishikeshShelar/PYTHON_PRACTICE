{
 "cells": [
  {
   "cell_type": "code",
   "execution_count": 13,
   "metadata": {
    "colab": {
     "base_uri": "https://localhost:8080/"
    },
    "id": "3xgq4YxR5q4O",
    "outputId": "cfcf68a8-d917-41be-a2b8-24412c6fb3dc"
   },
   "outputs": [
    {
     "name": "stdout",
     "output_type": "stream",
     "text": [
      "enter year2004\n",
      "2004 is leap year\n"
     ]
    }
   ],
   "source": [
    "year=int(input(\"enter year\"))\n",
    "if (year%400==0) and (year%100==0):\n",
    " print(year,'is leap year')\n",
    "elif (year%4==0) and (year%100!=0):\n",
    " print(year,'is leap year')\n",
    "else:\n",
    "  print(year,\"is not leap year\")"
   ]
  },
  {
   "cell_type": "code",
   "execution_count": 7,
   "metadata": {
    "colab": {
     "base_uri": "https://localhost:8080/"
    },
    "id": "NPuJEmJN9inF",
    "outputId": "736ddeb7-fb71-4cc5-eb7b-14379ad85bcd"
   },
   "outputs": [
    {
     "name": "stdout",
     "output_type": "stream",
     "text": [
      "present\n"
     ]
    }
   ],
   "source": [
    "a={\"name\":\"hrishi\",\"location\":\"thane\"}\n",
    "if \"name\" in a:\n",
    "  print(\"present\")\n",
    "else :\n",
    "  print(\"Not present\")"
   ]
  },
  {
   "cell_type": "code",
   "execution_count": 8,
   "metadata": {
    "colab": {
     "base_uri": "https://localhost:8080/"
    },
    "id": "ZGvxoZy__R4R",
    "outputId": "01d521f8-4995-4dde-d72f-f4f9382ecbc2"
   },
   "outputs": [
    {
     "name": "stdout",
     "output_type": "stream",
     "text": [
      "Enter Age: 21\n",
      "Person is eligible for voting\n"
     ]
    }
   ],
   "source": [
    "b=int(input(\"Enter Age: \"))\n",
    "if b>=18:\n",
    "  print(\"Person is eligible for voting\")\n",
    "else:\n",
    "  print(\"person is not eligible for voting\")"
   ]
  },
  {
   "cell_type": "code",
   "execution_count": 11,
   "metadata": {
    "colab": {
     "base_uri": "https://localhost:8080/"
    },
    "id": "gt-k6ZmhAXal",
    "outputId": "2e04abd1-c1b7-43ef-e791-01b01405003a"
   },
   "outputs": [
    {
     "name": "stdout",
     "output_type": "stream",
     "text": [
      "Enter Number: 21\n",
      "21 is divisible by 7\n"
     ]
    }
   ],
   "source": [
    "c=int(input(\"Enter Number: \"))\n",
    "if c%7==0:\n",
    "  print(c,\"is divisible by 7\")\n",
    "else:\n",
    "  print(c,\"is not divisible by 7\")"
   ]
  },
  {
   "cell_type": "code",
   "execution_count": 15,
   "metadata": {
    "colab": {
     "base_uri": "https://localhost:8080/"
    },
    "id": "0jiBt5uEBA3z",
    "outputId": "18725163-3e31-4098-e87b-79be9ecc3468"
   },
   "outputs": [
    {
     "name": "stdout",
     "output_type": "stream",
     "text": [
      "Enter letter: E\n",
      "E is vowel\n"
     ]
    }
   ],
   "source": [
    "b=input(\"Enter letter: \")\n",
    "vowel=['a','i','e','o','u','A','E','I','O','U']\n",
    "if b in vowel:\n",
    "  print(b,\"is vowel\")\n",
    "else:\n",
    "  print(b,\"is not vowel\")"
   ]
  },
  {
   "cell_type": "code",
   "execution_count": 20,
   "metadata": {
    "colab": {
     "base_uri": "https://localhost:8080/"
    },
    "id": "MJRtB3EDNADO",
    "outputId": "8d60ebdf-e49a-4516-f9a0-1e8b3c424e28"
   },
   "outputs": [
    {
     "name": "stdout",
     "output_type": "stream",
     "text": [
      "enter number: 4\n",
      "Wednesday\n"
     ]
    }
   ],
   "source": [
    "a=int(input(\"enter number: \"))\n",
    "if a==1:\n",
    "  print(\"Sunday\")\n",
    "elif a==2:\n",
    "  print(\"Monday\")\n",
    "elif a==3:\n",
    "  print(\"Tuesday\")\n",
    "elif a==4:\n",
    "  print(\"Wednesday\")\n",
    "elif a==5:\n",
    "  print(\"Thursday\")\n",
    "elif a==6:\n",
    "  print(\"Friday\")\n",
    "elif a==7:\n",
    "  print(\"Saturday\")\n",
    "else:\n",
    "  print(\"invalid\")\n"
   ]
  },
  {
   "cell_type": "code",
   "execution_count": 24,
   "metadata": {
    "colab": {
     "base_uri": "https://localhost:8080/"
    },
    "id": "nLTpg1gIPKfU",
    "outputId": "f1577859-f9b7-4cb7-e6bc-6dd30e3f5b17"
   },
   "outputs": [
    {
     "name": "stdout",
     "output_type": "stream",
     "text": [
      "Enter number: 135\n",
      "135 is three digit number.\n"
     ]
    }
   ],
   "source": [
    "Number=(input(\"Enter number: \"))\n",
    "if len(Number)==3:\n",
    "  print(Number,\"is three digit number.\")\n",
    "else:\n",
    "   print(Number,\"it is not three digit number.\")"
   ]
  },
  {
   "cell_type": "code",
   "execution_count": 20,
   "metadata": {},
   "outputs": [
    {
     "name": "stdout",
     "output_type": "stream",
     "text": [
      "Enter percentage: 76\n",
      "A grade\n"
     ]
    }
   ],
   "source": [
    "c=int(input(\"Enter percentage: \"))\n",
    "if c<=25:\n",
    "  print(\"D grade\")\n",
    "elif c>=25 and c<=45:\n",
    "  print(\"C grade\") \n",
    "elif c>=45 and c<=50:\n",
    "  print(\"B grade\") \n",
    "elif c>=50 and c<=60:\n",
    "  print(\"B+ grade\") \n",
    "elif c>=60 and c<=80:\n",
    "  print(\"A grade\") \n",
    "elif c>=80:  \n",
    "  print(\"A+ grade\")"
   ]
  },
  {
   "cell_type": "code",
   "execution_count": 23,
   "metadata": {
    "id": "xQehJ2riXqOH"
   },
   "outputs": [
    {
     "name": "stdout",
     "output_type": "stream",
     "text": [
      "Enter your price : 8400\n",
      "Your net price: 7140.0\n"
     ]
    }
   ],
   "source": [
    "a=float(input('Enter your price : '))\n",
    "if a>10000:\n",
    "    print('Your net price:',a-a*20/100)\n",
    "elif a>7000 and a<10000:\n",
    "    print('Your net price:',a-a*15/100)\n",
    "elif a<7000:\n",
    "    print('Your net price:',a-a*10/100)"
   ]
  },
  {
   "cell_type": "code",
   "execution_count": 24,
   "metadata": {},
   "outputs": [
    {
     "name": "stdout",
     "output_type": "stream",
     "text": [
      "Enter first side : 15\n",
      "Enter second side : 10\n",
      "Enter third side : 10\n",
      "Isosceles Triangle\n"
     ]
    }
   ],
   "source": [
    "a = int(input(\"Enter first side : \"))\n",
    "b = int(input(\"Enter second side : \"))\n",
    "c = int(input(\"Enter third side : \"))\n",
    "\n",
    "if a == b and b == c :\n",
    "    print(\"Equilateral Triangle\")\n",
    "elif a == b or b == c or c == a:\n",
    "    print(\"Isosceles Triangle\")\n",
    "else :\n",
    "    print(\"Scalene Triangle\")"
   ]
  },
  {
   "cell_type": "code",
   "execution_count": null,
   "metadata": {},
   "outputs": [],
   "source": []
  }
 ],
 "metadata": {
  "colab": {
   "name": "if else",
   "provenance": []
  },
  "kernelspec": {
   "display_name": "Python 3 (ipykernel)",
   "language": "python",
   "name": "python3"
  },
  "language_info": {
   "codemirror_mode": {
    "name": "ipython",
    "version": 3
   },
   "file_extension": ".py",
   "mimetype": "text/x-python",
   "name": "python",
   "nbconvert_exporter": "python",
   "pygments_lexer": "ipython3",
   "version": "3.9.7"
  }
 },
 "nbformat": 4,
 "nbformat_minor": 1
}
