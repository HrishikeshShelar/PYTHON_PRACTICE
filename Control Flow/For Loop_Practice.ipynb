{
 "cells": [
  {
   "cell_type": "code",
   "execution_count": 3,
   "id": "2909e8b0",
   "metadata": {},
   "outputs": [
    {
     "name": "stdout",
     "output_type": "stream",
     "text": [
      "Sum of odd numbers is: 325\n",
      "Sum of even numbers is: 312\n"
     ]
    }
   ],
   "source": [
    "# Program to display sum of odd nmbers and even numbers that fall between 12 and 37 (including both numbers)\n",
    "even=0 \n",
    "odd=0\n",
    "for i in range(12,38):\n",
    "    if i%2==0:\n",
    "        even+=i\n",
    "    else: odd+=i\n",
    "print('Sum of odd numbers is:',odd)\n",
    "print('Sum of even numbers is:',even)"
   ]
  },
  {
   "cell_type": "code",
   "execution_count": 9,
   "id": "08f4f10a",
   "metadata": {},
   "outputs": [
    {
     "name": "stdout",
     "output_type": "stream",
     "text": [
      "Enter a number: 6\n",
      "6 is a perfect square.\n"
     ]
    }
   ],
   "source": [
    "# Write a program to accept a number and check whether it is a perfect square or not\n",
    "perfect_square=int(input(\"Enter a number: \"))\n",
    "sum=0\n",
    "for i in range(1,perfect_square):\n",
    "    if perf_square%i==0:\n",
    "        sum=sum+i\n",
    "if sum==perfect_square:\n",
    "    print(perfect_square,'is a perfect square.')\n",
    "else: print(perfect_square,'is not a perfect square.')"
   ]
  },
  {
   "cell_type": "code",
   "execution_count": null,
   "id": "b4691dba",
   "metadata": {},
   "outputs": [],
   "source": []
  }
 ],
 "metadata": {
  "kernelspec": {
   "display_name": "Python 3 (ipykernel)",
   "language": "python",
   "name": "python3"
  },
  "language_info": {
   "codemirror_mode": {
    "name": "ipython",
    "version": 3
   },
   "file_extension": ".py",
   "mimetype": "text/x-python",
   "name": "python",
   "nbconvert_exporter": "python",
   "pygments_lexer": "ipython3",
   "version": "3.9.7"
  }
 },
 "nbformat": 4,
 "nbformat_minor": 5
}
