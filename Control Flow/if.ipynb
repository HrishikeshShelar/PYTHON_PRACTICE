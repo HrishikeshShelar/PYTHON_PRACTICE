{
 "cells": [
  {
   "cell_type": "code",
   "execution_count": 3,
   "id": "e6f89327",
   "metadata": {},
   "outputs": [
    {
     "name": "stdout",
     "output_type": "stream",
     "text": [
      "Enter Number:12\n",
      "12 Even Number\n"
     ]
    }
   ],
   "source": [
    "b=int(input(\"Enter Number:\"))\n",
    "if b %2==0:\n",
    "    print(b,\"Even Number\")\n",
    "    \n"
   ]
  },
  {
   "cell_type": "code",
   "execution_count": 7,
   "id": "e592ae04",
   "metadata": {},
   "outputs": [
    {
     "name": "stdout",
     "output_type": "stream",
     "text": [
      "Enter Number:5\n",
      "5 is positive number\n"
     ]
    }
   ],
   "source": [
    "c=int(input(\"Enter Number:\"))\n",
    "if c>0:\n",
    "   print(c,\"is positive number\")"
   ]
  },
  {
   "cell_type": "code",
   "execution_count": 12,
   "id": "b78afdf8",
   "metadata": {},
   "outputs": [
    {
     "name": "stdout",
     "output_type": "stream",
     "text": [
      "Enter Number:-12\n",
      "-12 is negative number\n"
     ]
    }
   ],
   "source": [
    "c=int(input(\"Enter Number:\"))\n",
    "if c>0:\n",
    "   print(c,\"is positive number\")\n",
    "else :\n",
    "   print(c,\"is negative number\")"
   ]
  },
  {
   "cell_type": "code",
   "execution_count": 20,
   "id": "8b68113a",
   "metadata": {},
   "outputs": [
    {
     "name": "stdout",
     "output_type": "stream",
     "text": [
      "Enter Number:0\n",
      "0 Is eual to 0\n"
     ]
    }
   ],
   "source": [
    "c=int(input(\"Enter Number:\"))\n",
    "if c>0:\n",
    "   print(c,\"is positive number\")\n",
    "elif c<0: \n",
    "   print(c,\"is negative number\")\n",
    "else:\n",
    "   print(c,\"Is eual to 0\")"
   ]
  },
  {
   "cell_type": "code",
   "execution_count": 22,
   "id": "de6319ed",
   "metadata": {},
   "outputs": [
    {
     "name": "stdout",
     "output_type": "stream",
     "text": [
      "Enter Number:13\n",
      "13  is odd number\n"
     ]
    }
   ],
   "source": [
    "b=int(input(\"Enter Number:\"))\n",
    "if b %2==0:\n",
    "    print(b,\" is Even Number\")\n",
    "else :\n",
    "    print(b,\" is odd number\")"
   ]
  },
  {
   "cell_type": "code",
   "execution_count": 30,
   "id": "931f3fe8",
   "metadata": {},
   "outputs": [
    {
     "name": "stdout",
     "output_type": "stream",
     "text": [
      "['apple', 'mango'] is not empty\n"
     ]
    }
   ],
   "source": [
    "b=[\"apple\",\"mango\"]\n",
    "if len(b)==0:\n",
    "   print(b,\"is empty list\")\n",
    "else :\n",
    "    print(b,\"is not empty\")\n",
    "   "
   ]
  },
  {
   "cell_type": "code",
   "execution_count": 32,
   "id": "b9fef26f",
   "metadata": {},
   "outputs": [
    {
     "name": "stdout",
     "output_type": "stream",
     "text": [
      "present\n"
     ]
    }
   ],
   "source": [
    "if 'n' in 'python':\n",
    "    print(\"present\")\n",
    "else:\n",
    "    print(\"absent\")"
   ]
  },
  {
   "cell_type": "code",
   "execution_count": 37,
   "id": "b1af85f1",
   "metadata": {},
   "outputs": [],
   "source": [
    "Name='Sanvee'\n",
    "if Name=='hrishi':\n",
    "  print(Name,\"Not the one\")"
   ]
  },
  {
   "cell_type": "code",
   "execution_count": 45,
   "id": "d17afed3",
   "metadata": {},
   "outputs": [
    {
     "name": "stdout",
     "output_type": "stream",
     "text": [
      "Enter 1st value:12.5\n",
      "Enter 2nd value:20.20\n",
      "Enter 3rd value:5.5\n",
      "20.2 b is Biggest value\n"
     ]
    }
   ],
   "source": [
    "a=float(input(\"Enter 1st value:\"))\n",
    "b=float(input(\"Enter 2nd value:\"))\n",
    "c=float(input(\"Enter 3rd value:\"))\n",
    "if a>b and a>c:\n",
    "    print(a,\"a is biggest value\")\n",
    "elif b>a and b>c:\n",
    "    print(b,\"b is Biggest value\")\n",
    "else:\n",
    "    print(c,\"c is Biggest value\")\n",
    "    "
   ]
  },
  {
   "cell_type": "code",
   "execution_count": 47,
   "id": "b9f74d62",
   "metadata": {},
   "outputs": [
    {
     "name": "stdout",
     "output_type": "stream",
     "text": [
      "1st value: 35.50\n",
      "2nd value: 21.22\n",
      "3rd value: 4.75\n",
      "The maximum value is : 35.5\n"
     ]
    }
   ],
   "source": [
    "a=float(input(\"1st value: \"))\n",
    "b=float(input(\"2nd value: \"))\n",
    "c=float(input(\"3rd value: \"))\n",
    "if a>b and a>c:\n",
    "   max=a\n",
    "elif b>a and b>c:\n",
    "   max=b\n",
    "else:\n",
    "   max=c\n",
    "print(\"The maximum value is :\",max)\n",
    "    "
   ]
  },
  {
   "cell_type": "code",
   "execution_count": null,
   "id": "179614c2",
   "metadata": {},
   "outputs": [],
   "source": []
  }
 ],
 "metadata": {
  "kernelspec": {
   "display_name": "Python 3 (ipykernel)",
   "language": "python",
   "name": "python3"
  },
  "language_info": {
   "codemirror_mode": {
    "name": "ipython",
    "version": 3
   },
   "file_extension": ".py",
   "mimetype": "text/x-python",
   "name": "python",
   "nbconvert_exporter": "python",
   "pygments_lexer": "ipython3",
   "version": "3.9.7"
  }
 },
 "nbformat": 4,
 "nbformat_minor": 5
}
