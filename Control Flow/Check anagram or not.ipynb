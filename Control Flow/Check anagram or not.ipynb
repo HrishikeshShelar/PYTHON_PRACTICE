{
 "cells": [
  {
   "cell_type": "code",
   "execution_count": 5,
   "id": "f71e5ac9",
   "metadata": {},
   "outputs": [
    {
     "name": "stdout",
     "output_type": "stream",
     "text": [
      "enter word: elbow\n",
      "enter word: below\n",
      "word is anagram\n"
     ]
    }
   ],
   "source": [
    "# Check two strings are anagram are not\n",
    "a=input(\"enter word: \")\n",
    "b=input(\"enter word: \")\n",
    "if len(a)==len(b):\n",
    "  a=a.lower()\n",
    "  b=b.lower()\n",
    "  sort1=sorted(a)\n",
    "  sort2=sorted(b)\n",
    "  if sort1==sort2:\n",
    "   print(\"word is anagram\")\n",
    "  else:\n",
    "    print(\"word is not anagram\")\n",
    "else:\n",
    "    print(\"word is not anagaram\")"
   ]
  },
  {
   "cell_type": "code",
   "execution_count": null,
   "id": "002b8cd2",
   "metadata": {},
   "outputs": [],
   "source": []
  }
 ],
 "metadata": {
  "kernelspec": {
   "display_name": "Python 3 (ipykernel)",
   "language": "python",
   "name": "python3"
  },
  "language_info": {
   "codemirror_mode": {
    "name": "ipython",
    "version": 3
   },
   "file_extension": ".py",
   "mimetype": "text/x-python",
   "name": "python",
   "nbconvert_exporter": "python",
   "pygments_lexer": "ipython3",
   "version": "3.9.7"
  }
 },
 "nbformat": 4,
 "nbformat_minor": 5
}
